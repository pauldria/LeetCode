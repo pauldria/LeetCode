{
 "cells": [
  {
   "cell_type": "markdown",
   "metadata": {},
   "source": [
    "https://leetcode.com/contest/biweekly-contest-23"
   ]
  },
  {
   "cell_type": "code",
   "execution_count": 17,
   "metadata": {},
   "outputs": [],
   "source": [
    "def SumOfDigits(n):\n",
    "    if n <= 0:\n",
    "        return 0\n",
    "    total_sum = 0\n",
    "    while n > 0:\n",
    "        quo, rem = divmod(n, 10)\n",
    "        total_sum += rem\n",
    "        n = quo\n",
    "    return total_sum"
   ]
  },
  {
   "cell_type": "code",
   "execution_count": 35,
   "metadata": {},
   "outputs": [],
   "source": [
    "def CountLargestGroup(n):\n",
    "    d = {}\n",
    "    for i in range(1,n+1):\n",
    "        s = SumOfDigits(i)\n",
    "        if s not in d:\n",
    "            d[s] = 0\n",
    "        d[s] += 1\n",
    "    l = list(d.values())\n",
    "    m = max(l)\n",
    "    filtered = [x for x in l if x == m]\n",
    "    return len(filtered)"
   ]
  },
  {
   "cell_type": "code",
   "execution_count": 36,
   "metadata": {},
   "outputs": [
    {
     "data": {
      "text/plain": [
       "2"
      ]
     },
     "execution_count": 36,
     "metadata": {},
     "output_type": "execute_result"
    }
   ],
   "source": [
    "CountLargestGroup(21)"
   ]
  },
  {
   "cell_type": "markdown",
   "metadata": {},
   "source": [
    "https://leetcode.com/contest/biweekly-contest-23/problems/construct-k-palindrome-strings/"
   ]
  },
  {
   "cell_type": "code",
   "execution_count": 37,
   "metadata": {},
   "outputs": [],
   "source": [
    "def CharacterTally(s):\n",
    "    d = {}\n",
    "    for c in s:\n",
    "        if c not in d:\n",
    "            d[c] = 0\n",
    "        d[c] += 1\n",
    "    return d"
   ]
  },
  {
   "cell_type": "code",
   "execution_count": 38,
   "metadata": {},
   "outputs": [
    {
     "data": {
      "text/plain": [
       "{'f': 1, 'o': 2}"
      ]
     },
     "execution_count": 38,
     "metadata": {},
     "output_type": "execute_result"
    }
   ],
   "source": [
    "CharacterTally(\"foo\")"
   ]
  },
  {
   "cell_type": "code",
   "execution_count": 40,
   "metadata": {},
   "outputs": [],
   "source": [
    "def canConstruct(s, k):\n",
    "    n_s = len(s)\n",
    "    long_enough = n_s >= k\n",
    "    d = CharacterTally(s)\n",
    "    d_vals = d.values()\n",
    "    odd = [x for x in d_vals if x % 2 == 1]\n",
    "    num_odd = len(odd)\n",
    "    return (long_enough and num_odd <= k)"
   ]
  },
  {
   "cell_type": "code",
   "execution_count": 47,
   "metadata": {},
   "outputs": [
    {
     "data": {
      "text/plain": [
       "False"
      ]
     },
     "execution_count": 47,
     "metadata": {},
     "output_type": "execute_result"
    }
   ],
   "source": [
    "canConstruct(\"cr\", 7)"
   ]
  },
  {
   "cell_type": "markdown",
   "metadata": {},
   "source": [
    "https://leetcode.com/contest/biweekly-contest-23/problems/circle-and-rectangle-overlapping/"
   ]
  },
  {
   "cell_type": "code",
   "execution_count": 50,
   "metadata": {},
   "outputs": [],
   "source": [
    "import math"
   ]
  },
  {
   "cell_type": "code",
   "execution_count": 53,
   "metadata": {},
   "outputs": [],
   "source": [
    "def Distance(x1, y1, x2, y2):\n",
    "    return(math.sqrt((x2-x1)**2 + (y2-y1)**2))"
   ]
  },
  {
   "cell_type": "code",
   "execution_count": 57,
   "metadata": {},
   "outputs": [],
   "source": [
    "def DistanceToLine(r_x, r_y, val, vertical = True):\n",
    "    if vertical:                # Line has form x = val\n",
    "        return abs(r_x - val)\n",
    "    return abs(r_y - val)       # Line has form y = val"
   ]
  },
  {
   "cell_type": "code",
   "execution_count": 78,
   "metadata": {},
   "outputs": [],
   "source": [
    "def CheckOverlap(radius: int, x_center: int, y_center: int, x1: int, y1: int, x2: int, y2: int):\n",
    "    # Check corners\n",
    "    if Distance(x_center, y_center, x1, y1) <= radius:\n",
    "        return True\n",
    "    if Distance(x_center, y_center, x2, y2) <= radius:\n",
    "        return True\n",
    "    if Distance(x_center, y_center, x1, y2) <= radius:\n",
    "        return True\n",
    "    if Distance(x_center, y_center, x2, y1) <= radius:\n",
    "        return True\n",
    "\n",
    "    # Check lines - the relative corners must include the radius\n",
    "    if y1 <= y_center and y_center <= y2 and DistanceToLine(x_center, y_center, x1, vertical = True) <= radius:\n",
    "        return True\n",
    "    if y1 <= y_center and y_center <= y2 and DistanceToLine(x_center, y_center, x2, vertical = True) <= radius:\n",
    "        return True\n",
    "    if x1 <= x_center and x_center <= x2 and DistanceToLine(x_center, y_center, y1, vertical = False) <= radius:\n",
    "        return True\n",
    "    if x1 <= x_center and x_center <= x2 and DistanceToLine(x_center, y_center, y2, vertical = False) <= radius:\n",
    "        return True\n",
    "\n",
    "    # Check if center of circle is within square\n",
    "    # Assume x1 <= x2 and y1 <= y2\n",
    "    if x1 <= x_center and x_center <= x2 and y1 <= x_center and x_center <= y2:\n",
    "        return True\n",
    "    \n",
    "    return False"
   ]
  },
  {
   "cell_type": "code",
   "execution_count": 81,
   "metadata": {},
   "outputs": [
    {
     "data": {
      "text/plain": [
       "False"
      ]
     },
     "execution_count": 81,
     "metadata": {},
     "output_type": "execute_result"
    }
   ],
   "source": [
    "CheckOverlap(1, 1, 1, 1, -3, 2, -1)"
   ]
  },
  {
   "cell_type": "markdown",
   "metadata": {},
   "source": [
    "https://leetcode.com/contest/biweekly-contest-23/problems/reducing-dishes/"
   ]
  },
  {
   "cell_type": "code",
   "execution_count": 84,
   "metadata": {},
   "outputs": [],
   "source": [
    "def LikeTimeCoefficient(l):\n",
    "    s = 0\n",
    "    n = len(l)\n",
    "    for i in range(n):\n",
    "        s += (i+1)*l[i]\n",
    "    return s"
   ]
  },
  {
   "cell_type": "code",
   "execution_count": 94,
   "metadata": {},
   "outputs": [],
   "source": [
    "def MaxSatisfaction(satisfaction):\n",
    "    s = sorted(satisfaction)\n",
    "    n = len(s)\n",
    "    m = 0\n",
    "    for i in range(n):\n",
    "        candidate = LikeTimeCoefficient(s)\n",
    "        if candidate > m:\n",
    "            m = candidate\n",
    "        del s[0]\n",
    "    return m"
   ]
  },
  {
   "cell_type": "code",
   "execution_count": 99,
   "metadata": {},
   "outputs": [
    {
     "data": {
      "text/plain": [
       "41666500"
      ]
     },
     "execution_count": 99,
     "metadata": {},
     "output_type": "execute_result"
    }
   ],
   "source": [
    "MaxSatisfaction(list(range(500)))"
   ]
  }
 ],
 "metadata": {
  "kernelspec": {
   "display_name": "Python 3",
   "language": "python",
   "name": "python3"
  },
  "language_info": {
   "codemirror_mode": {
    "name": "ipython",
    "version": 3
   },
   "file_extension": ".py",
   "mimetype": "text/x-python",
   "name": "python",
   "nbconvert_exporter": "python",
   "pygments_lexer": "ipython3",
   "version": "3.8.0"
  }
 },
 "nbformat": 4,
 "nbformat_minor": 4
}
