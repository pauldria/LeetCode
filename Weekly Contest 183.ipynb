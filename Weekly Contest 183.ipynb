{
 "cells": [
  {
   "cell_type": "markdown",
   "metadata": {},
   "source": [
    "https://leetcode.com/contest/weekly-contest-183"
   ]
  },
  {
   "cell_type": "code",
   "execution_count": 9,
   "metadata": {},
   "outputs": [],
   "source": [
    "def minSubsequence(nums):\n",
    "    s = sum(nums)\n",
    "    target = int(s/2)\n",
    "    nums_sorted = reversed(sorted(nums))\n",
    "    l_final = []\n",
    "    rolling_sum = 0\n",
    "    for i in nums_sorted:\n",
    "        rolling_sum += i\n",
    "        l_final.append(i)\n",
    "        if rolling_sum > target:\n",
    "            return l_final\n",
    "    return l_final"
   ]
  },
  {
   "cell_type": "markdown",
   "metadata": {},
   "source": [
    "https://leetcode.com/contest/weekly-contest-183/problems/number-of-steps-to-reduce-a-number-in-binary-representation-to-one/"
   ]
  },
  {
   "cell_type": "code",
   "execution_count": 32,
   "metadata": {},
   "outputs": [],
   "source": [
    "def AddOne(s):\n",
    "    n = len(s)\n",
    "    last_zero = -1\n",
    "    i = n-1\n",
    "    while last_zero == -1 and i >= 0:\n",
    "        if s[i] == '0':\n",
    "            last_zero = i\n",
    "        i -= 1\n",
    "    if last_zero == -1:\n",
    "        return(\"1\" + \"0\"*n)\n",
    "    else:\n",
    "        return(s[:last_zero] + \"1\" + \"0\"*(n-last_zero-1))\n",
    "def DivideByTwo(s):\n",
    "    return(s[:len(s)-1])"
   ]
  },
  {
   "cell_type": "code",
   "execution_count": 33,
   "metadata": {},
   "outputs": [],
   "source": [
    "def numSteps(s):\n",
    "    steps = 0\n",
    "    while s != \"1\":\n",
    "        if s[len(s)-1] == \"1\":\n",
    "            s = AddOne(s)\n",
    "        else:\n",
    "            s = DivideByTwo(s)\n",
    "        steps += 1\n",
    "    return(steps)            "
   ]
  },
  {
   "cell_type": "code",
   "execution_count": 35,
   "metadata": {},
   "outputs": [
    {
     "name": "stdout",
     "output_type": "stream",
     "text": [
      "10\n"
     ]
    },
    {
     "data": {
      "text/plain": [
       "1"
      ]
     },
     "execution_count": 35,
     "metadata": {},
     "output_type": "execute_result"
    }
   ],
   "source": [
    "numSteps(\"10\")"
   ]
  },
  {
   "cell_type": "markdown",
   "metadata": {},
   "source": [
    "https://leetcode.com/contest/weekly-contest-183/problems/longest-happy-string/"
   ]
  },
  {
   "cell_type": "code",
   "execution_count": 106,
   "metadata": {},
   "outputs": [],
   "source": [
    "def Happy(a, b, c, s):\n",
    "    print(str(a) + \"-\" + str(b) + \"-\" + str(c) + \"-\" + s)\n",
    "    if a == 0 and b == 0 and c == 0:\n",
    "        return s\n",
    "    if s == \"\":\n",
    "        if a < 3 and b < 3 and c < 3:\n",
    "            return \"a\"*a + \"b\"*b + \"c\"*c\n",
    "        elif c >= a+2 and c >= b+2:\n",
    "            return Happy(a, b, c-2, \"cc\")\n",
    "        elif b >= a+2 and c >= b+2:\n",
    "            return Happy(a, b-2, c, \"bb\")\n",
    "        elif a >= b+2 and a >= c+2:\n",
    "            return Happy(a-2, b, c, \"aa\")\n",
    "        else:\n",
    "            if a == b and b == c:\n",
    "                return Happy(a-1, b-1, b-1, \"abc\")\n",
    "            elif b > a and c > a:\n",
    "                if b == 1 and c == 1:\n",
    "                    return Happy(a, b-1, c-1, \"bc\")\n",
    "                elif c > b:\n",
    "                    return Happy(a, b, c-2, \"cc\")\n",
    "                else:\n",
    "                    return Happy(a, b-2, c, \"bb\")\n",
    "            elif a > b and c > b:\n",
    "                if a == 1 and c == 1:\n",
    "                    return Happy(a-1, b, c-1, \"ac\")\n",
    "                elif c > a:\n",
    "                    return Happy(a, b, c-2, \"cc\")\n",
    "                else:\n",
    "                    return Happy(a-2, b, c, \"aa\")\n",
    "            elif a > c and b > c:\n",
    "                if a == 1 and b == 1:\n",
    "                    return Happy(a-1, b-1, c, \"ab\")\n",
    "                elif b > a:\n",
    "                    return Happy(a, b-2, c, \"bb\")\n",
    "                else:\n",
    "                    return Happy(a-2, b, c, \"aa\")\n",
    "            else:\n",
    "                print(\"WHAT THE FUCK\")\n",
    "    n = len(s)\n",
    "    last_two = s[n-2] + s[n-1]\n",
    "    if last_two == \"aa\":\n",
    "        if b == 0 and c == 0:\n",
    "            return s\n",
    "        if c >= b+2 or (c >= 2 and c >= b):\n",
    "            return Happy(a, b, c-2, s + \"cc\")\n",
    "        elif b >= c+2 or (b >= 2 and b > c):\n",
    "            return Happy(a, b-2, c, s + \"bb\")\n",
    "        elif c >= b:\n",
    "            return Happy(a, b, c-1, s + \"c\")\n",
    "        else:\n",
    "            return Happy(a, b-1, c, s + \"b\")\n",
    "    elif last_two == \"bb\":\n",
    "        if a == 0 and c == 0:\n",
    "            return s\n",
    "        if c >= a+2 or (c >= 2 and c >= a):\n",
    "            return Happy(a, b, c-2, s + \"cc\")\n",
    "        elif a >= c+2 or (a >= 2 and a > c):\n",
    "            return Happy(a-2, b, c, s + \"aa\")\n",
    "        elif c >= a:\n",
    "            return Happy(a, b, c-1, s + \"c\")\n",
    "        else:\n",
    "            return Happy(a-1, b, c, s + \"a\")\n",
    "    elif last_two == \"cc\":\n",
    "        if a == 0 and b == 0:\n",
    "            return s\n",
    "        if b >= a+2 or (b >= 2 and b >= a):\n",
    "            return Happy(a, b-2, c, s + \"bb\")\n",
    "        elif a >= b+2 or (a >= 2 and a > b):\n",
    "            return Happy(a-2, b, c, s + \"aa\")\n",
    "        elif b >= a:\n",
    "            return Happy(a, b-1, c, s + \"b\")\n",
    "        else:\n",
    "            return Happy(a-1, b, c, s + \"a\")\n",
    "    elif s[n-1] == \"a\":\n",
    "        if b == 0 and c == 0:\n",
    "            if a == 0:\n",
    "                return s\n",
    "            else:\n",
    "                return s + \"a\"\n",
    "        if c >= b+2 or (c >= 2 and c >= b):\n",
    "            return Happy(a, b, c-2, s + \"cc\")\n",
    "        elif b >= c+2 or (b >= 2 and b > c):\n",
    "            return Happy(a, b-2, c, s + \"bb\")\n",
    "        elif c >= b:\n",
    "            return Happy(a, b, c-1, s + \"c\")\n",
    "        else:\n",
    "            return Happy(a, b-1, c, s + \"b\")\n",
    "    elif s[n-1] == \"b\":\n",
    "        if a == 0 and c == 0:\n",
    "            if b == 0:\n",
    "                return s\n",
    "            else:\n",
    "                return s + \"b\"\n",
    "        if c >= a+2 or (c >= 2 and c >= a):\n",
    "            return Happy(a, b, c-2, s + \"cc\")\n",
    "        elif a >= c+2 or (a >= 2 and a > c):\n",
    "            return Happy(a-2, b, c, s + \"aa\")\n",
    "        elif c >= a:\n",
    "            return Happy(a, b, c-1, s + \"c\")\n",
    "        else:\n",
    "            return Happy(a-1, b, c, s + \"a\")\n",
    "    elif s[n-1] == \"c\":\n",
    "        if a == 0 and b == 0:\n",
    "            if c == 0:\n",
    "                return s\n",
    "            else:\n",
    "                return s + \"c\"\n",
    "        if b >= a+2 or (b >= 2 and b >= a):\n",
    "            return Happy(a, b-2, c, s + \"bb\")\n",
    "        elif a >= b+2 or (a >= 2 and a > b):\n",
    "            return Happy(a-2, b, c, s + \"aa\")\n",
    "        elif b >= a:\n",
    "            return Happy(a, b-1, c, s + \"b\")\n",
    "        else:\n",
    "            return Happy(a-1, b, c, s + \"a\")"
   ]
  },
  {
   "cell_type": "code",
   "execution_count": 108,
   "metadata": {},
   "outputs": [
    {
     "name": "stdout",
     "output_type": "stream",
     "text": [
      "3-0-4-\n",
      "2-0-3-ac\n",
      "0-0-3-acaa\n",
      "0-0-1-acaacc\n"
     ]
    },
    {
     "data": {
      "text/plain": [
       "'acaacc'"
      ]
     },
     "execution_count": 108,
     "metadata": {},
     "output_type": "execute_result"
    }
   ],
   "source": [
    "Happy(3, 0, 4, \"\")"
   ]
  },
  {
   "cell_type": "markdown",
   "metadata": {},
   "source": [
    "https://leetcode.com/contest/weekly-contest-183/problems/stone-game-iii/"
   ]
  },
  {
   "cell_type": "code",
   "execution_count": 86,
   "metadata": {},
   "outputs": [],
   "source": [
    "def stoneGameIIIHelper(stoneValue, playerA, playerB, player):\n",
    "    n = len(stoneValue)\n",
    "    other = \"Bob\" if player == \"Alice\" else \"Alice\"\n",
    "    if n == 1:\n",
    "        if player == \"Alice\":\n",
    "            if playerA + stoneValue[0] > playerB :\n",
    "                return(player)\n",
    "            elif playerA + stoneValue[0] == playerB:\n",
    "                return(\"Tie\")\n",
    "            else:\n",
    "                return(other)\n",
    "        else:\n",
    "            if playerA < playerB + stoneValue[0]:\n",
    "                return(player)\n",
    "            elif playerA == playerB + stoneValue[0]:\n",
    "                return(\"Tie\")\n",
    "            else:\n",
    "                return(other)\n",
    "            \n",
    "    if n == 2:\n",
    "        if player == \"Alice\":\n",
    "            if playerA + stoneValue[0] > playerB + stoneValue[1] or playerA + sum(stoneValue) > playerB:\n",
    "                return(player)\n",
    "            elif playerA + stoneValue[0] == playerB + stoneValue[1] or playerA + sum(stoneValue) == playerB:\n",
    "                return(\"Tie\")\n",
    "            else:\n",
    "                return(other)\n",
    "        else:\n",
    "            if playerA + stoneValue[1] < playerB + stoneValue[0] or playerA < playerB + sum(stoneValue):\n",
    "                return(player)\n",
    "            elif playerA + stoneValue[1] == playerB + stoneValue[0] or playerA == playerB + sum(stoneValue):\n",
    "                return(\"Tie\")\n",
    "            else:\n",
    "                return(other)\n",
    "            \n",
    "    if n == 3:\n",
    "        if player == \"Alice\":\n",
    "            if playerA + sum(stoneValue) > playerB:\n",
    "                return(player)\n",
    "            player1 = stoneGameIIIHelper(stoneValue[1:], playerA + stoneValue[0], playerB, other)\n",
    "            player2 = stoneGameIIIHelper(stoneValue[2:], playerA + stoneValue[0] + stoneValue[1], playerB, other)\n",
    "            if (player1 == player or player2 == player):\n",
    "                return(player)\n",
    "            elif (player1 == \"Tie\" or player2 == \"Tie\"):\n",
    "                return(\"Tie\")\n",
    "            else:\n",
    "                return(other)\n",
    "        else:\n",
    "            if playerA < playerB + sum(stoneValue):\n",
    "                return(player)\n",
    "            player1 = stoneGameIIIHelper(stoneValue[1:], playerA, playerB + stoneValue[0], other)\n",
    "            player2 = stoneGameIIIHelper(stoneValue[2:], playerA, playerB + stoneValue[0] + stoneValue[1], other)\n",
    "            if (player1 == player or player2 == player):\n",
    "                return(player)\n",
    "            elif (player1 == \"Tie\" or player2 == \"Tie\"):\n",
    "                return(\"Tie\")\n",
    "            else:\n",
    "                return(other)\n",
    "\n",
    "    if player == \"Alice\":\n",
    "        player1 = stoneGameIIIHelper(stoneValue[1:], playerA + stoneValue[0], playerB, other)\n",
    "        player2 = stoneGameIIIHelper(stoneValue[2:], playerA + stoneValue[0] + stoneValue[1], playerB, other)\n",
    "        player3 = stoneGameIIIHelper(stoneValue[3:], playerA + stoneValue[0] + stoneValue[1] + stoneValue[2], playerB, other)\n",
    "        if (player1 == player or player2 == player or player3 == player):\n",
    "            return(player)\n",
    "        elif (player1 == \"Tie\" or player2 == \"Tie\" or player3 == \"Tie\"):\n",
    "            return(\"Tie\")\n",
    "        else:\n",
    "            return(other)\n",
    "    else:\n",
    "        player1 = stoneGameIIIHelper(stoneValue[1:], playerA, playerB + stoneValue[0], other)\n",
    "        player2 = stoneGameIIIHelper(stoneValue[2:], playerA, playerB + stoneValue[0] + stoneValue[1], other)\n",
    "        player3 = stoneGameIIIHelper(stoneValue[3:], playerA, playerB + stoneValue[0] + stoneValue[1] + stoneValue[2], other)\n",
    "        if (player1 == player or player2 == player or player3 == player):\n",
    "            return(player)\n",
    "        elif (player1 == \"Tie\" or player2 == \"Tie\" or player3 == \"Tie\"):\n",
    "            return(\"Tie\")\n",
    "        else:\n",
    "            return(other)\n",
    "\n",
    "def stoneGameIII(stoneValue):\n",
    "    return(stoneGameIIIHelper(stoneValue, 0, 0, \"Alice\"))"
   ]
  },
  {
   "cell_type": "code",
   "execution_count": 87,
   "metadata": {},
   "outputs": [
    {
     "data": {
      "text/plain": [
       "'Alice'"
      ]
     },
     "execution_count": 87,
     "metadata": {},
     "output_type": "execute_result"
    }
   ],
   "source": [
    "stoneGameIII([11,10,7,-6,-17,-5,6,-1,6,-13,13,2,4,-16,13,13,4,0,16,16,-16,5,-16])"
   ]
  }
 ],
 "metadata": {
  "kernelspec": {
   "display_name": "Python 3",
   "language": "python",
   "name": "python3"
  },
  "language_info": {
   "codemirror_mode": {
    "name": "ipython",
    "version": 3
   },
   "file_extension": ".py",
   "mimetype": "text/x-python",
   "name": "python",
   "nbconvert_exporter": "python",
   "pygments_lexer": "ipython3",
   "version": "3.8.0"
  }
 },
 "nbformat": 4,
 "nbformat_minor": 4
}
