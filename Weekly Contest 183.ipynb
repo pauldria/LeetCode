{
 "cells": [
  {
   "cell_type": "markdown",
   "metadata": {},
   "source": [
    "https://leetcode.com/contest/weekly-contest-183"
   ]
  },
  {
   "cell_type": "code",
   "execution_count": 9,
   "metadata": {},
   "outputs": [],
   "source": [
    "def minSubsequence(nums):\n",
    "    s = sum(nums)\n",
    "    target = int(s/2)\n",
    "    nums_sorted = reversed(sorted(nums))\n",
    "    l_final = []\n",
    "    rolling_sum = 0\n",
    "    for i in nums_sorted:\n",
    "        rolling_sum += i\n",
    "        l_final.append(i)\n",
    "        if rolling_sum > target:\n",
    "            return l_final\n",
    "    return l_final"
   ]
  },
  {
   "cell_type": "markdown",
   "metadata": {},
   "source": [
    "https://leetcode.com/contest/weekly-contest-183/problems/number-of-steps-to-reduce-a-number-in-binary-representation-to-one/"
   ]
  },
  {
   "cell_type": "code",
   "execution_count": 32,
   "metadata": {},
   "outputs": [],
   "source": [
    "def AddOne(s):\n",
    "    n = len(s)\n",
    "    last_zero = -1\n",
    "    i = n-1\n",
    "    while last_zero == -1 and i >= 0:\n",
    "        if s[i] == '0':\n",
    "            last_zero = i\n",
    "        i -= 1\n",
    "    if last_zero == -1:\n",
    "        return(\"1\" + \"0\"*n)\n",
    "    else:\n",
    "        return(s[:last_zero] + \"1\" + \"0\"*(n-last_zero-1))\n",
    "def DivideByTwo(s):\n",
    "    return(s[:len(s)-1])"
   ]
  },
  {
   "cell_type": "code",
   "execution_count": 33,
   "metadata": {},
   "outputs": [],
   "source": [
    "def numSteps(s):\n",
    "    steps = 0\n",
    "    while s != \"1\":\n",
    "        if s[len(s)-1] == \"1\":\n",
    "            s = AddOne(s)\n",
    "        else:\n",
    "            s = DivideByTwo(s)\n",
    "        steps += 1\n",
    "    return(steps)            "
   ]
  },
  {
   "cell_type": "code",
   "execution_count": 35,
   "metadata": {},
   "outputs": [
    {
     "name": "stdout",
     "output_type": "stream",
     "text": [
      "10\n"
     ]
    },
    {
     "data": {
      "text/plain": [
       "1"
      ]
     },
     "execution_count": 35,
     "metadata": {},
     "output_type": "execute_result"
    }
   ],
   "source": [
    "numSteps(\"10\")"
   ]
  },
  {
   "cell_type": "markdown",
   "metadata": {},
   "source": [
    "https://leetcode.com/contest/weekly-contest-183/problems/longest-happy-string/"
   ]
  },
  {
   "cell_type": "code",
   "execution_count": 125,
   "metadata": {},
   "outputs": [
    {
     "data": {
      "text/plain": [
       "{'a': 0, 'b': 1, 'c': 2}"
      ]
     },
     "execution_count": 125,
     "metadata": {},
     "output_type": "execute_result"
    }
   ],
   "source": [
    "mapping = {0:\"a\", 1:\"b\", 2:\"c\"}\n",
    "reverse_mapping = {v:k for k, v in mapping.items()}\n",
    "reverse_mapping"
   ]
  },
  {
   "cell_type": "code",
   "execution_count": 133,
   "metadata": {},
   "outputs": [],
   "source": [
    "def GetLetterToUse(counts, s):\n",
    "    n = len(s)\n",
    "    dict_counts = {i: counts[i] for i in range(len(counts))}\n",
    "    dict_counts_sorted = {k: v for k, v in sorted(dict_counts.items(), key=lambda item: -item[1])}\n",
    "    counts_sorted = list(dict_counts_sorted.keys())\n",
    "    mapping = {0:\"a\", 1:\"b\", 2:\"c\"}\n",
    "    reverse_mapping = {v:k for k, v in mapping.items()}\n",
    "    if n < 2 or s[n-2] != s[n-1]:\n",
    "        for i in range(3):\n",
    "            if dict_counts[counts_sorted[i]] > 0:\n",
    "                return(mapping[counts_sorted[i]])\n",
    "    \n",
    "    # At this point, we know the last two are the same\n",
    "    for i in range(3):\n",
    "        if dict_counts[counts_sorted[i]] > 0 and reverse_mapping[s[n-1]] != counts_sorted[i]:\n",
    "            return(mapping[counts_sorted[i]])\n",
    "    \n",
    "    return(None)"
   ]
  },
  {
   "cell_type": "code",
   "execution_count": 131,
   "metadata": {},
   "outputs": [
    {
     "data": {
      "text/plain": [
       "'b'"
      ]
     },
     "execution_count": 131,
     "metadata": {},
     "output_type": "execute_result"
    }
   ],
   "source": [
    "GetLetterToUse([0,1,4], \"cc\")"
   ]
  },
  {
   "cell_type": "code",
   "execution_count": 134,
   "metadata": {},
   "outputs": [],
   "source": [
    "def Happy(a, b, c):\n",
    "    n = a + b + c\n",
    "    l = [a, b, c]\n",
    "    mapping = {'a':0, 'b':1, 'c':2}\n",
    "    s = \"\"\n",
    "    next_letter = GetLetterToUse(l, s)\n",
    "    while len(s) < n and next_letter is not None:\n",
    "        s += next_letter\n",
    "        l[mapping[next_letter]] -= 1\n",
    "        next_letter = GetLetterToUse(l, s)\n",
    "    \n",
    "    return(s)"
   ]
  },
  {
   "cell_type": "code",
   "execution_count": 139,
   "metadata": {},
   "outputs": [
    {
     "data": {
      "text/plain": [
       "'aabaa'"
      ]
     },
     "execution_count": 139,
     "metadata": {},
     "output_type": "execute_result"
    }
   ],
   "source": [
    "Happy(7, 1, 0)"
   ]
  },
  {
   "cell_type": "markdown",
   "metadata": {},
   "source": [
    "https://leetcode.com/contest/weekly-contest-183/problems/stone-game-iii/"
   ]
  },
  {
   "cell_type": "code",
   "execution_count": 86,
   "metadata": {},
   "outputs": [],
   "source": [
    "def stoneGameIIIHelper(stoneValue, playerA, playerB, player):\n",
    "    n = len(stoneValue)\n",
    "    other = \"Bob\" if player == \"Alice\" else \"Alice\"\n",
    "    if n == 1:\n",
    "        if player == \"Alice\":\n",
    "            if playerA + stoneValue[0] > playerB :\n",
    "                return(player)\n",
    "            elif playerA + stoneValue[0] == playerB:\n",
    "                return(\"Tie\")\n",
    "            else:\n",
    "                return(other)\n",
    "        else:\n",
    "            if playerA < playerB + stoneValue[0]:\n",
    "                return(player)\n",
    "            elif playerA == playerB + stoneValue[0]:\n",
    "                return(\"Tie\")\n",
    "            else:\n",
    "                return(other)\n",
    "            \n",
    "    if n == 2:\n",
    "        if player == \"Alice\":\n",
    "            if playerA + stoneValue[0] > playerB + stoneValue[1] or playerA + sum(stoneValue) > playerB:\n",
    "                return(player)\n",
    "            elif playerA + stoneValue[0] == playerB + stoneValue[1] or playerA + sum(stoneValue) == playerB:\n",
    "                return(\"Tie\")\n",
    "            else:\n",
    "                return(other)\n",
    "        else:\n",
    "            if playerA + stoneValue[1] < playerB + stoneValue[0] or playerA < playerB + sum(stoneValue):\n",
    "                return(player)\n",
    "            elif playerA + stoneValue[1] == playerB + stoneValue[0] or playerA == playerB + sum(stoneValue):\n",
    "                return(\"Tie\")\n",
    "            else:\n",
    "                return(other)\n",
    "            \n",
    "    if n == 3:\n",
    "        if player == \"Alice\":\n",
    "            if playerA + sum(stoneValue) > playerB:\n",
    "                return(player)\n",
    "            player1 = stoneGameIIIHelper(stoneValue[1:], playerA + stoneValue[0], playerB, other)\n",
    "            player2 = stoneGameIIIHelper(stoneValue[2:], playerA + stoneValue[0] + stoneValue[1], playerB, other)\n",
    "            if (player1 == player or player2 == player):\n",
    "                return(player)\n",
    "            elif (player1 == \"Tie\" or player2 == \"Tie\"):\n",
    "                return(\"Tie\")\n",
    "            else:\n",
    "                return(other)\n",
    "        else:\n",
    "            if playerA < playerB + sum(stoneValue):\n",
    "                return(player)\n",
    "            player1 = stoneGameIIIHelper(stoneValue[1:], playerA, playerB + stoneValue[0], other)\n",
    "            player2 = stoneGameIIIHelper(stoneValue[2:], playerA, playerB + stoneValue[0] + stoneValue[1], other)\n",
    "            if (player1 == player or player2 == player):\n",
    "                return(player)\n",
    "            elif (player1 == \"Tie\" or player2 == \"Tie\"):\n",
    "                return(\"Tie\")\n",
    "            else:\n",
    "                return(other)\n",
    "\n",
    "    if player == \"Alice\":\n",
    "        player1 = stoneGameIIIHelper(stoneValue[1:], playerA + stoneValue[0], playerB, other)\n",
    "        player2 = stoneGameIIIHelper(stoneValue[2:], playerA + stoneValue[0] + stoneValue[1], playerB, other)\n",
    "        player3 = stoneGameIIIHelper(stoneValue[3:], playerA + stoneValue[0] + stoneValue[1] + stoneValue[2], playerB, other)\n",
    "        if (player1 == player or player2 == player or player3 == player):\n",
    "            return(player)\n",
    "        elif (player1 == \"Tie\" or player2 == \"Tie\" or player3 == \"Tie\"):\n",
    "            return(\"Tie\")\n",
    "        else:\n",
    "            return(other)\n",
    "    else:\n",
    "        player1 = stoneGameIIIHelper(stoneValue[1:], playerA, playerB + stoneValue[0], other)\n",
    "        player2 = stoneGameIIIHelper(stoneValue[2:], playerA, playerB + stoneValue[0] + stoneValue[1], other)\n",
    "        player3 = stoneGameIIIHelper(stoneValue[3:], playerA, playerB + stoneValue[0] + stoneValue[1] + stoneValue[2], other)\n",
    "        if (player1 == player or player2 == player or player3 == player):\n",
    "            return(player)\n",
    "        elif (player1 == \"Tie\" or player2 == \"Tie\" or player3 == \"Tie\"):\n",
    "            return(\"Tie\")\n",
    "        else:\n",
    "            return(other)\n",
    "\n",
    "def stoneGameIII(stoneValue):\n",
    "    return(stoneGameIIIHelper(stoneValue, 0, 0, \"Alice\"))"
   ]
  },
  {
   "cell_type": "code",
   "execution_count": 87,
   "metadata": {},
   "outputs": [
    {
     "data": {
      "text/plain": [
       "'Alice'"
      ]
     },
     "execution_count": 87,
     "metadata": {},
     "output_type": "execute_result"
    }
   ],
   "source": [
    "stoneGameIII([11,10,7,-6,-17,-5,6,-1,6,-13,13,2,4,-16,13,13,4,0,16,16,-16,5,-16])"
   ]
  }
 ],
 "metadata": {
  "kernelspec": {
   "display_name": "Python 3",
   "language": "python",
   "name": "python3"
  },
  "language_info": {
   "codemirror_mode": {
    "name": "ipython",
    "version": 3
   },
   "file_extension": ".py",
   "mimetype": "text/x-python",
   "name": "python",
   "nbconvert_exporter": "python",
   "pygments_lexer": "ipython3",
   "version": "3.8.0"
  }
 },
 "nbformat": 4,
 "nbformat_minor": 4
}
