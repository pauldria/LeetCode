{
 "cells": [
  {
   "cell_type": "markdown",
   "metadata": {},
   "source": [
    "https://leetcode.com/contest/weekly-contest-184"
   ]
  },
  {
   "cell_type": "code",
   "execution_count": 8,
   "metadata": {},
   "outputs": [],
   "source": [
    "def stringMatching(words):\n",
    "    final = set()\n",
    "    for word1 in words:\n",
    "        for word2 in words:\n",
    "            if word1 in word2 and word1 != word2:\n",
    "                final.add(word1)\n",
    "    return list(final)"
   ]
  },
  {
   "cell_type": "code",
   "execution_count": 9,
   "metadata": {},
   "outputs": [
    {
     "data": {
      "text/plain": [
       "['leetcode', 'am', 'od']"
      ]
     },
     "execution_count": 9,
     "metadata": {},
     "output_type": "execute_result"
    }
   ],
   "source": [
    "stringMatching([\"leetcoder\",\"leetcode\",\"od\",\"hamlet\",\"am\"])"
   ]
  },
  {
   "cell_type": "code",
   "execution_count": 3,
   "metadata": {},
   "outputs": [
    {
     "data": {
      "text/plain": [
       "True"
      ]
     },
     "execution_count": 3,
     "metadata": {},
     "output_type": "execute_result"
    }
   ],
   "source": [
    "\"a\" in \"ab\""
   ]
  },
  {
   "cell_type": "code",
   "execution_count": 14,
   "metadata": {},
   "outputs": [],
   "source": [
    "def processQueries(queries, m):\n",
    "    p = list(range(1, m+1))\n",
    "    final = []\n",
    "    for q in queries:\n",
    "        idx = p.index(q)\n",
    "        final.append(idx)\n",
    "        del p[idx]\n",
    "        p = [q] + p\n",
    "    return final"
   ]
  },
  {
   "cell_type": "code",
   "execution_count": 39,
   "metadata": {},
   "outputs": [],
   "source": [
    "def entityParser(text):\n",
    "    n = len(text)\n",
    "    ptr = 0\n",
    "    final_text = \"\"\n",
    "    while ptr < n:\n",
    "        if text[ptr] != '&':\n",
    "            final_text += text[ptr]\n",
    "            ptr += 1\n",
    "        else:\n",
    "            next_three = text[ptr+1:ptr+4] if ptr+4 <= n else \"\"\n",
    "            next_four = text[ptr+1:ptr+5] if ptr+5 <= n else \"\"\n",
    "            next_five = text[ptr+1:ptr+6] if ptr+6 <= n else \"\"\n",
    "            next_six = text[ptr+1:ptr+7] if ptr+7 <= n else \"\"\n",
    "            if next_three == \"gt;\":\n",
    "                final_text += '>'\n",
    "                ptr += 4\n",
    "            elif next_three == \"lt;\":\n",
    "                final_text += '<'\n",
    "                ptr += 4\n",
    "            elif next_four == \"amp;\":\n",
    "                final_text += '&'\n",
    "                ptr += 5\n",
    "            elif next_five == \"quot;\":\n",
    "                final_text += '\"'\n",
    "                ptr += 6\n",
    "            elif next_five == \"apos;\":\n",
    "                final_text += '\\''\n",
    "                ptr += 6\n",
    "            elif next_six == \"frasl;\":\n",
    "                final_text += '/'\n",
    "                ptr += 7\n",
    "            else:\n",
    "                final_text += text[ptr]\n",
    "                ptr += 1\n",
    "    return final_text"
   ]
  },
  {
   "cell_type": "code",
   "execution_count": 42,
   "metadata": {},
   "outputs": [
    {
     "data": {
      "text/plain": [
       "'leetcode.com/problemset/all'"
      ]
     },
     "execution_count": 42,
     "metadata": {},
     "output_type": "execute_result"
    }
   ],
   "source": [
    "entityParser(\"leetcode.com&frasl;problemset&frasl;all\")"
   ]
  },
  {
   "cell_type": "code",
   "execution_count": 67,
   "metadata": {},
   "outputs": [],
   "source": [
    "def numOfWaysLastRowThreeColors(n):\n",
    "    if n == 1:\n",
    "        return 6\n",
    "    n_1_lastrow3colors = numOfWaysLastRowThreeColors(n-1)\n",
    "    n_1_lastrow2colors = numOfWaysLastRowTwoColors(n-1)\n",
    "    return 2*n_1_lastrow3colors + 2*n_1_lastrow2colors\n",
    "def numOfWaysLastRowTwoColors(n):\n",
    "    if n == 1:\n",
    "        return 6\n",
    "    n_1_lastrow3colors = numOfWaysLastRowThreeColors(n-1)\n",
    "    n_1_lastrow2colors = numOfWaysLastRowTwoColors(n-1)\n",
    "    return 2*n_1_lastrow3colors + 3*n_1_lastrow2colors\n",
    "def numOfWays(n):\n",
    "    a = [0, 6] # last row 3\n",
    "    b = [0, 6] # last row 2\n",
    "    for i in range(2,n+1):\n",
    "        a.append(2*a[i-1] + 2*b[i-1])\n",
    "        b.append(2*a[i-1] + 3*b[i-1])\n",
    "    return (a[n]+b[n])%(10**9+7)"
   ]
  },
  {
   "cell_type": "code",
   "execution_count": 71,
   "metadata": {},
   "outputs": [
    {
     "data": {
      "text/plain": [
       "30228214"
      ]
     },
     "execution_count": 71,
     "metadata": {},
     "output_type": "execute_result"
    }
   ],
   "source": [
    "numOfWays(5000)"
   ]
  }
 ],
 "metadata": {
  "kernelspec": {
   "display_name": "Python 3",
   "language": "python",
   "name": "python3"
  },
  "language_info": {
   "codemirror_mode": {
    "name": "ipython",
    "version": 3
   },
   "file_extension": ".py",
   "mimetype": "text/x-python",
   "name": "python",
   "nbconvert_exporter": "python",
   "pygments_lexer": "ipython3",
   "version": "3.8.0"
  }
 },
 "nbformat": 4,
 "nbformat_minor": 4
}
